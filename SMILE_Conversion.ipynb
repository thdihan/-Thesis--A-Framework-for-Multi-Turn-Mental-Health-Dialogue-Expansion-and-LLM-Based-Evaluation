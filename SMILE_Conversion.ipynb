{
  "metadata": {
    "kernelspec": {
      "language": "python",
      "display_name": "Python 3",
      "name": "python3"
    },
    "language_info": {
      "name": "python",
      "version": "3.10.12",
      "mimetype": "text/x-python",
      "codemirror_mode": {
        "name": "ipython",
        "version": 3
      },
      "pygments_lexer": "ipython3",
      "nbconvert_exporter": "python",
      "file_extension": ".py"
    },
    "kaggle": {
      "accelerator": "none",
      "dataSources": [],
      "dockerImageVersionId": 30886,
      "isInternetEnabled": true,
      "language": "python",
      "sourceType": "notebook",
      "isGpuEnabled": false
    },
    "colab": {
      "provenance": []
    }
  },
  "nbformat_minor": 0,
  "nbformat": 4,
  "cells": [
    {
      "cell_type": "code",
      "source": [
        "pip install -U langchain-google-genai"
      ],
      "metadata": {
        "trusted": true,
        "execution": {
          "iopub.status.busy": "2025-02-17T17:35:47.847053Z",
          "iopub.execute_input": "2025-02-17T17:35:47.847469Z",
          "iopub.status.idle": "2025-02-17T17:35:55.915575Z",
          "shell.execute_reply.started": "2025-02-17T17:35:47.847423Z",
          "shell.execute_reply": "2025-02-17T17:35:55.913858Z"
        },
        "id": "8j9UVjRbpAXk",
        "outputId": "c7a62e0f-1349-4a2f-c8c6-658d40e7f52f"
      },
      "outputs": [
        {
          "name": "stdout",
          "text": "Collecting langchain-google-genai\n  Downloading langchain_google_genai-2.0.9-py3-none-any.whl.metadata (3.6 kB)\nCollecting filetype<2.0.0,>=1.2.0 (from langchain-google-genai)\n  Downloading filetype-1.2.0-py2.py3-none-any.whl.metadata (6.5 kB)\nRequirement already satisfied: google-generativeai<0.9.0,>=0.8.0 in /usr/local/lib/python3.10/dist-packages (from langchain-google-genai) (0.8.3)\nCollecting langchain-core<0.4.0,>=0.3.27 (from langchain-google-genai)\n  Downloading langchain_core-0.3.35-py3-none-any.whl.metadata (5.9 kB)\nRequirement already satisfied: pydantic<3,>=2 in /usr/local/lib/python3.10/dist-packages (from langchain-google-genai) (2.11.0a1)\nRequirement already satisfied: google-ai-generativelanguage==0.6.10 in /usr/local/lib/python3.10/dist-packages (from google-generativeai<0.9.0,>=0.8.0->langchain-google-genai) (0.6.10)\nRequirement already satisfied: google-api-core in /usr/local/lib/python3.10/dist-packages (from google-generativeai<0.9.0,>=0.8.0->langchain-google-genai) (1.34.1)\nRequirement already satisfied: google-api-python-client in /usr/local/lib/python3.10/dist-packages (from google-generativeai<0.9.0,>=0.8.0->langchain-google-genai) (2.155.0)\nRequirement already satisfied: google-auth>=2.15.0 in /usr/local/lib/python3.10/dist-packages (from google-generativeai<0.9.0,>=0.8.0->langchain-google-genai) (2.27.0)\nRequirement already satisfied: protobuf in /usr/local/lib/python3.10/dist-packages (from google-generativeai<0.9.0,>=0.8.0->langchain-google-genai) (3.20.3)\nRequirement already satisfied: tqdm in /usr/local/lib/python3.10/dist-packages (from google-generativeai<0.9.0,>=0.8.0->langchain-google-genai) (4.67.1)\nRequirement already satisfied: typing-extensions in /usr/local/lib/python3.10/dist-packages (from google-generativeai<0.9.0,>=0.8.0->langchain-google-genai) (4.12.2)\nRequirement already satisfied: proto-plus<2.0.0dev,>=1.22.3 in /usr/local/lib/python3.10/dist-packages (from google-ai-generativelanguage==0.6.10->google-generativeai<0.9.0,>=0.8.0->langchain-google-genai) (1.25.0)\nRequirement already satisfied: langsmith<0.4,>=0.1.125 in /usr/local/lib/python3.10/dist-packages (from langchain-core<0.4.0,>=0.3.27->langchain-google-genai) (0.2.3)\nRequirement already satisfied: tenacity!=8.4.0,<10.0.0,>=8.1.0 in /usr/local/lib/python3.10/dist-packages (from langchain-core<0.4.0,>=0.3.27->langchain-google-genai) (9.0.0)\nRequirement already satisfied: jsonpatch<2.0,>=1.33 in /usr/local/lib/python3.10/dist-packages (from langchain-core<0.4.0,>=0.3.27->langchain-google-genai) (1.33)\nRequirement already satisfied: PyYAML>=5.3 in /usr/local/lib/python3.10/dist-packages (from langchain-core<0.4.0,>=0.3.27->langchain-google-genai) (6.0.2)\nRequirement already satisfied: packaging<25,>=23.2 in /usr/local/lib/python3.10/dist-packages (from langchain-core<0.4.0,>=0.3.27->langchain-google-genai) (24.2)\nRequirement already satisfied: annotated-types>=0.6.0 in /usr/local/lib/python3.10/dist-packages (from pydantic<3,>=2->langchain-google-genai) (0.7.0)\nRequirement already satisfied: pydantic-core==2.28.0 in /usr/local/lib/python3.10/dist-packages (from pydantic<3,>=2->langchain-google-genai) (2.28.0)\nRequirement already satisfied: googleapis-common-protos<2.0dev,>=1.56.2 in /usr/local/lib/python3.10/dist-packages (from google-api-core->google-generativeai<0.9.0,>=0.8.0->langchain-google-genai) (1.66.0)\nRequirement already satisfied: requests<3.0.0dev,>=2.18.0 in /usr/local/lib/python3.10/dist-packages (from google-api-core->google-generativeai<0.9.0,>=0.8.0->langchain-google-genai) (2.32.3)\nRequirement already satisfied: cachetools<6.0,>=2.0.0 in /usr/local/lib/python3.10/dist-packages (from google-auth>=2.15.0->google-generativeai<0.9.0,>=0.8.0->langchain-google-genai) (5.5.0)\nRequirement already satisfied: pyasn1-modules>=0.2.1 in /usr/local/lib/python3.10/dist-packages (from google-auth>=2.15.0->google-generativeai<0.9.0,>=0.8.0->langchain-google-genai) (0.4.1)\nRequirement already satisfied: rsa<5,>=3.1.4 in /usr/local/lib/python3.10/dist-packages (from google-auth>=2.15.0->google-generativeai<0.9.0,>=0.8.0->langchain-google-genai) (4.9)\nRequirement already satisfied: jsonpointer>=1.9 in /usr/local/lib/python3.10/dist-packages (from jsonpatch<2.0,>=1.33->langchain-core<0.4.0,>=0.3.27->langchain-google-genai) (3.0.0)\nRequirement already satisfied: httpx<1,>=0.23.0 in /usr/local/lib/python3.10/dist-packages (from langsmith<0.4,>=0.1.125->langchain-core<0.4.0,>=0.3.27->langchain-google-genai) (0.28.1)\nRequirement already satisfied: orjson<4.0.0,>=3.9.14 in /usr/local/lib/python3.10/dist-packages (from langsmith<0.4,>=0.1.125->langchain-core<0.4.0,>=0.3.27->langchain-google-genai) (3.10.12)\nRequirement already satisfied: requests-toolbelt<2.0.0,>=1.0.0 in /usr/local/lib/python3.10/dist-packages (from langsmith<0.4,>=0.1.125->langchain-core<0.4.0,>=0.3.27->langchain-google-genai) (1.0.0)\nRequirement already satisfied: httplib2<1.dev0,>=0.19.0 in /usr/local/lib/python3.10/dist-packages (from google-api-python-client->google-generativeai<0.9.0,>=0.8.0->langchain-google-genai) (0.22.0)\nRequirement already satisfied: google-auth-httplib2<1.0.0,>=0.2.0 in /usr/local/lib/python3.10/dist-packages (from google-api-python-client->google-generativeai<0.9.0,>=0.8.0->langchain-google-genai) (0.2.0)\nRequirement already satisfied: uritemplate<5,>=3.0.1 in /usr/local/lib/python3.10/dist-packages (from google-api-python-client->google-generativeai<0.9.0,>=0.8.0->langchain-google-genai) (4.1.1)\nRequirement already satisfied: grpcio<2.0dev,>=1.33.2 in /usr/local/lib/python3.10/dist-packages (from google-api-core[grpc]!=2.0.*,!=2.1.*,!=2.10.*,!=2.2.*,!=2.3.*,!=2.4.*,!=2.5.*,!=2.6.*,!=2.7.*,!=2.8.*,!=2.9.*,<3.0.0dev,>=1.34.1->google-ai-generativelanguage==0.6.10->google-generativeai<0.9.0,>=0.8.0->langchain-google-genai) (1.68.1)\nRequirement already satisfied: grpcio-status<2.0dev,>=1.33.2 in /usr/local/lib/python3.10/dist-packages (from google-api-core[grpc]!=2.0.*,!=2.1.*,!=2.10.*,!=2.2.*,!=2.3.*,!=2.4.*,!=2.5.*,!=2.6.*,!=2.7.*,!=2.8.*,!=2.9.*,<3.0.0dev,>=1.34.1->google-ai-generativelanguage==0.6.10->google-generativeai<0.9.0,>=0.8.0->langchain-google-genai) (1.48.2)\nRequirement already satisfied: pyparsing!=3.0.0,!=3.0.1,!=3.0.2,!=3.0.3,<4,>=2.4.2 in /usr/local/lib/python3.10/dist-packages (from httplib2<1.dev0,>=0.19.0->google-api-python-client->google-generativeai<0.9.0,>=0.8.0->langchain-google-genai) (3.2.0)\nRequirement already satisfied: anyio in /usr/local/lib/python3.10/dist-packages (from httpx<1,>=0.23.0->langsmith<0.4,>=0.1.125->langchain-core<0.4.0,>=0.3.27->langchain-google-genai) (3.7.1)\nRequirement already satisfied: certifi in /usr/local/lib/python3.10/dist-packages (from httpx<1,>=0.23.0->langsmith<0.4,>=0.1.125->langchain-core<0.4.0,>=0.3.27->langchain-google-genai) (2025.1.31)\nRequirement already satisfied: httpcore==1.* in /usr/local/lib/python3.10/dist-packages (from httpx<1,>=0.23.0->langsmith<0.4,>=0.1.125->langchain-core<0.4.0,>=0.3.27->langchain-google-genai) (1.0.7)\nRequirement already satisfied: idna in /usr/local/lib/python3.10/dist-packages (from httpx<1,>=0.23.0->langsmith<0.4,>=0.1.125->langchain-core<0.4.0,>=0.3.27->langchain-google-genai) (3.10)\nRequirement already satisfied: h11<0.15,>=0.13 in /usr/local/lib/python3.10/dist-packages (from httpcore==1.*->httpx<1,>=0.23.0->langsmith<0.4,>=0.1.125->langchain-core<0.4.0,>=0.3.27->langchain-google-genai) (0.14.0)\nRequirement already satisfied: pyasn1<0.7.0,>=0.4.6 in /usr/local/lib/python3.10/dist-packages (from pyasn1-modules>=0.2.1->google-auth>=2.15.0->google-generativeai<0.9.0,>=0.8.0->langchain-google-genai) (0.6.1)\nRequirement already satisfied: charset-normalizer<4,>=2 in /usr/local/lib/python3.10/dist-packages (from requests<3.0.0dev,>=2.18.0->google-api-core->google-generativeai<0.9.0,>=0.8.0->langchain-google-genai) (3.4.1)\nRequirement already satisfied: urllib3<3,>=1.21.1 in /usr/local/lib/python3.10/dist-packages (from requests<3.0.0dev,>=2.18.0->google-api-core->google-generativeai<0.9.0,>=0.8.0->langchain-google-genai) (2.3.0)\nRequirement already satisfied: sniffio>=1.1 in /usr/local/lib/python3.10/dist-packages (from anyio->httpx<1,>=0.23.0->langsmith<0.4,>=0.1.125->langchain-core<0.4.0,>=0.3.27->langchain-google-genai) (1.3.1)\nRequirement already satisfied: exceptiongroup in /usr/local/lib/python3.10/dist-packages (from anyio->httpx<1,>=0.23.0->langsmith<0.4,>=0.1.125->langchain-core<0.4.0,>=0.3.27->langchain-google-genai) (1.2.2)\nDownloading langchain_google_genai-2.0.9-py3-none-any.whl (41 kB)\n\u001b[2K   \u001b[90m━━━━━━━━━━━━━━━━━━━━━━━━━━━━━━━━━━━━━━━━\u001b[0m \u001b[32m41.7/41.7 kB\u001b[0m \u001b[31m1.3 MB/s\u001b[0m eta \u001b[36m0:00:00\u001b[0m\n\u001b[?25hDownloading filetype-1.2.0-py2.py3-none-any.whl (19 kB)\nDownloading langchain_core-0.3.35-py3-none-any.whl (413 kB)\n\u001b[2K   \u001b[90m━━━━━━━━━━━━━━━━━━━━━━━━━━━━━━━━━━━━━━━━\u001b[0m \u001b[32m413.2/413.2 kB\u001b[0m \u001b[31m11.1 MB/s\u001b[0m eta \u001b[36m0:00:00\u001b[0m00:01\u001b[0m\n\u001b[?25hInstalling collected packages: filetype, langchain-core, langchain-google-genai\n  Attempting uninstall: langchain-core\n    Found existing installation: langchain-core 0.3.25\n    Uninstalling langchain-core-0.3.25:\n      Successfully uninstalled langchain-core-0.3.25\n\u001b[31mERROR: pip's dependency resolver does not currently take into account all the packages that are installed. This behaviour is the source of the following dependency conflicts.\nlangchain 0.3.12 requires async-timeout<5.0.0,>=4.0.0; python_version < \"3.11\", but you have async-timeout 5.0.1 which is incompatible.\u001b[0m\u001b[31m\n\u001b[0mSuccessfully installed filetype-1.2.0 langchain-core-0.3.35 langchain-google-genai-2.0.9\nNote: you may need to restart the kernel to use updated packages.\n",
          "output_type": "stream"
        }
      ],
      "execution_count": null
    },
    {
      "cell_type": "code",
      "source": [
        "import pandas as pd\n",
        "import random\n",
        "import json\n",
        "from datasets import load_dataset, Dataset\n",
        "from langchain_google_genai import ChatGoogleGenerativeAI\n",
        "import os\n",
        "import time"
      ],
      "metadata": {
        "_uuid": "8f2839f25d086af736a60e9eeb907d3b93b6e0e5",
        "_cell_guid": "b1076dfc-b9ad-4769-8c92-a6c4dae69d19",
        "trusted": true,
        "execution": {
          "iopub.status.busy": "2025-02-17T17:35:55.917121Z",
          "iopub.execute_input": "2025-02-17T17:35:55.917539Z",
          "iopub.status.idle": "2025-02-17T17:36:02.555799Z",
          "shell.execute_reply.started": "2025-02-17T17:35:55.917502Z",
          "shell.execute_reply": "2025-02-17T17:36:02.554521Z"
        },
        "id": "mh7hE3wWpAXo"
      },
      "outputs": [],
      "execution_count": null
    },
    {
      "cell_type": "markdown",
      "source": [
        "**API KEY LINK:** [HERE](https://aistudio.google.com/app/apikey)"
      ],
      "metadata": {
        "id": "waiuImH5pAXp"
      }
    },
    {
      "cell_type": "code",
      "source": [
        "# Load API Key (ensure it's set in your Kaggle environment)\n",
        "from kaggle_secrets import UserSecretsClient\n",
        "user_secrets = UserSecretsClient()\n",
        "gemini_secret = user_secrets.get_secret(\"GEMINI_API_KEY\")"
      ],
      "metadata": {
        "trusted": true,
        "execution": {
          "iopub.status.busy": "2025-02-17T17:36:02.556755Z",
          "iopub.execute_input": "2025-02-17T17:36:02.557035Z",
          "iopub.status.idle": "2025-02-17T17:36:02.738718Z",
          "shell.execute_reply.started": "2025-02-17T17:36:02.557012Z",
          "shell.execute_reply": "2025-02-17T17:36:02.737594Z"
        },
        "id": "lj-rGzybpAXq"
      },
      "outputs": [],
      "execution_count": null
    },
    {
      "cell_type": "code",
      "source": [
        "# Initialize the LLM\n",
        "llm = ChatGoogleGenerativeAI(\n",
        "    model=\"gemini-2.0-flash\",\n",
        "    temperature=0.4,\n",
        "    max_tokens=None,\n",
        "    api_key=gemini_secret,\n",
        ")"
      ],
      "metadata": {
        "trusted": true,
        "execution": {
          "iopub.status.busy": "2025-02-17T17:36:02.740006Z",
          "iopub.execute_input": "2025-02-17T17:36:02.740473Z",
          "iopub.status.idle": "2025-02-17T17:36:02.833779Z",
          "shell.execute_reply.started": "2025-02-17T17:36:02.740436Z",
          "shell.execute_reply": "2025-02-17T17:36:02.832776Z"
        },
        "id": "u7nPDHXCpAXq"
      },
      "outputs": [],
      "execution_count": null
    },
    {
      "cell_type": "code",
      "source": [
        "from huggingface_hub import notebook_login\n",
        "\n",
        "notebook_login()"
      ],
      "metadata": {
        "trusted": true,
        "execution": {
          "iopub.status.busy": "2025-02-17T17:36:02.834873Z",
          "iopub.execute_input": "2025-02-17T17:36:02.835254Z",
          "iopub.status.idle": "2025-02-17T17:36:02.866099Z",
          "shell.execute_reply.started": "2025-02-17T17:36:02.835217Z",
          "shell.execute_reply": "2025-02-17T17:36:02.864700Z"
        },
        "id": "BZLjN4DDpAXr",
        "outputId": "7e141647-d010-47dd-a9ba-56c1963c8a19",
        "colab": {
          "referenced_widgets": [
            "83be3c0b6e6a474e82b93771931ac73f"
          ]
        }
      },
      "outputs": [
        {
          "output_type": "display_data",
          "data": {
            "text/plain": "VBox(children=(HTML(value='<center> <img\\nsrc=https://huggingface.co/front/assets/huggingface_logo-noborder.sv…",
            "application/vnd.jupyter.widget-view+json": {
              "version_major": 2,
              "version_minor": 0,
              "model_id": "83be3c0b6e6a474e82b93771931ac73f"
            }
          },
          "metadata": {}
        }
      ],
      "execution_count": null
    },
    {
      "cell_type": "code",
      "source": [
        "# Load dataset from Hugging Face\n",
        "dataset = load_dataset(\"EmoCareAI/Psych8k\")\n",
        "train_data = dataset[\"train\"]"
      ],
      "metadata": {
        "trusted": true,
        "execution": {
          "iopub.status.busy": "2025-02-17T17:39:33.009582Z",
          "iopub.execute_input": "2025-02-17T17:39:33.010024Z",
          "iopub.status.idle": "2025-02-17T17:39:38.338923Z",
          "shell.execute_reply.started": "2025-02-17T17:39:33.009993Z",
          "shell.execute_reply": "2025-02-17T17:39:38.337740Z"
        },
        "id": "rqjnf7C-pAXr",
        "outputId": "97529214-6599-4fc0-912c-d11312488838",
        "colab": {
          "referenced_widgets": [
            "58aee71d74c44622bf4014498b73d41e",
            "0fb25bbbf66c44b1888b8fd3b12eaf8b",
            "d7e036dbd83c44d286a21432a76b20b8"
          ]
        }
      },
      "outputs": [
        {
          "output_type": "display_data",
          "data": {
            "text/plain": "README.md:   0%|          | 0.00/564 [00:00<?, ?B/s]",
            "application/vnd.jupyter.widget-view+json": {
              "version_major": 2,
              "version_minor": 0,
              "model_id": "58aee71d74c44622bf4014498b73d41e"
            }
          },
          "metadata": {}
        },
        {
          "output_type": "display_data",
          "data": {
            "text/plain": "Alexander_Street_shareGPT_2.0.json:   0%|          | 0.00/6.58M [00:00<?, ?B/s]",
            "application/vnd.jupyter.widget-view+json": {
              "version_major": 2,
              "version_minor": 0,
              "model_id": "0fb25bbbf66c44b1888b8fd3b12eaf8b"
            }
          },
          "metadata": {}
        },
        {
          "output_type": "display_data",
          "data": {
            "text/plain": "Generating train split:   0%|          | 0/8187 [00:00<?, ? examples/s]",
            "application/vnd.jupyter.widget-view+json": {
              "version_major": 2,
              "version_minor": 0,
              "model_id": "d7e036dbd83c44d286a21432a76b20b8"
            }
          },
          "metadata": {}
        }
      ],
      "execution_count": null
    },
    {
      "cell_type": "code",
      "source": [
        "# Randomly sample 100 data points\n",
        "# sample_data = random.sample(list(train_data), 5)"
      ],
      "metadata": {
        "trusted": true,
        "execution": {
          "iopub.status.busy": "2025-02-17T15:15:40.784987Z",
          "iopub.execute_input": "2025-02-17T15:15:40.785212Z",
          "iopub.status.idle": "2025-02-17T15:15:40.787766Z",
          "shell.execute_reply.started": "2025-02-17T15:15:40.785192Z",
          "shell.execute_reply": "2025-02-17T15:15:40.787111Z"
        },
        "id": "8WSwqrntpAXs"
      },
      "outputs": [],
      "execution_count": null
    },
    {
      "cell_type": "code",
      "source": [
        "# ------------------------ORIGINAL\n",
        "# # Define the transformation function\n",
        "# def transform_dialogue(input_text, output_text):\n",
        "#     prompt = f\"\"\"\n",
        "#     I want you to act as both a psychiatrist and a dialogue rewriter. Your task is to transform the given single-turn dialogue into a multi-turn conversation that feels natural, interactive, and realistic.\n",
        "\n",
        "#     **Requirements:**\n",
        "#     1. The patient should NOT repeat their entire original statement in the first turn. Instead, their responses should be broken into smaller parts throughout the conversation.\n",
        "#     2. The psychiatrist should ask relevant follow-up questions that encourage the patient to gradually share their experience.\n",
        "#     3. The conversation should have at least 10 exchanges (5 turns each for the patient and psychiatrist).\n",
        "#     4. Do NOT introduce new details that are not explicitly mentioned in the single-turn dialogue. If information is missing (e.g., duration, triggers), the psychiatrist should ask the patient rather than assume.\n",
        "#     5. The psychiatrist should use empathetic and professional language while maintaining a supportive tone.\n",
        "#     6. Each turn should be clearly marked with **\"Patient:\"** or **\"Psychiatrist:\"**.\n",
        "\n",
        "#     **Single-Turn Dialogue:**\n",
        "#     Patient: {input_text}\n",
        "#     Psychiatrist: {output_text}\n",
        "\n",
        "#     Now, please generate the expanded multi-turn dialogue.\n",
        "#     \"\"\"\n",
        "\n",
        "#     response = llm.invoke(prompt)\n",
        "#     return response.content"
      ],
      "metadata": {
        "trusted": true,
        "execution": {
          "iopub.status.busy": "2025-02-17T15:15:40.788898Z",
          "iopub.execute_input": "2025-02-17T15:15:40.789064Z",
          "iopub.status.idle": "2025-02-17T15:15:40.802035Z",
          "shell.execute_reply.started": "2025-02-17T15:15:40.789050Z",
          "shell.execute_reply": "2025-02-17T15:15:40.801364Z"
        },
        "id": "gbjrVgBDpAXs"
      },
      "outputs": [],
      "execution_count": null
    },
    {
      "cell_type": "code",
      "source": [
        "# --------------------------FEW_SHOT\n",
        "# Define the transformation function\n",
        "def transform_dialogue(input_text, output_text):\n",
        "    prompt = f\"\"\"\n",
        "    I want you to act as both a psychiatrist and a dialogue rewriter. Your task is to transform the given single-turn dialogue into a multi-turn conversation that feels natural, interactive, and realistic.\n",
        "\n",
        "    **Requirements:**\n",
        "    1. The patient should NOT repeat their entire original statement in the first turn. Instead, their responses should be broken into smaller parts throughout the conversation.\n",
        "    2. The psychiatrist should ask relevant follow-up questions that encourage the patient to gradually share their experience.\n",
        "    3. The conversation should have at least 10 exchanges (5 turns each for the patient and psychiatrist).\n",
        "    4. Do NOT introduce new details that are not explicitly mentioned in the single-turn dialogue. If information is missing (e.g., duration, triggers), the psychiatrist should ask the patient rather than assume.\n",
        "    5. The conversation should only contain standard English text and avoid any special characters (e.g., symbols, emojis, or non-English characters) within the dialogue.\n",
        "    6. The psychiatrist should use empathetic and professional language while maintaining a supportive tone.\n",
        "    7. Each turn should be clearly marked with **\"Patient:\"** or **\"Psychiatrist:\"**.\n",
        "\n",
        "\n",
        "    **Example 1:**\n",
        "\n",
        "    **Single-Turn Dialogue:**\n",
        "    Patient: \"Lately, I've been feeling really disconnected from reality. I often find it hard to distinguish between what's real and what's not. For example, last week, I was having dinner with my family, and I suddenly thought my brother was about to attack me. I know it doesn't make any sense, but it felt real in that moment. This has happened a few times, but not all the time. I'm also having a hard time concentrating and remembering things that have happened recently. I've had some depressive episodes in the past, but this seems a bit different to me. Can you help me figure out what's going on?\"\n",
        "\n",
        "    Psychiatrist: \"Thank you for sharing your experience with me. It sounds like you've been dealing with a mix of symptoms, and I can understand how that can be concerning. Before I can provide any feedback or guidance, can you please tell me more about your experience? For example, how long have these feelings of disconnection been happening, and are there any other symptoms you've noticed recently? It would also be helpful to know about any stressors in your life right now or any history of mental health issues in your family. This information will help me understand your situation better.\"\n",
        "\n",
        "    **Multi-turn Dialogue:**\n",
        "    Patient: Lately, I’ve been feeling really disconnected from reality. It’s like I can’t always tell what’s real and what’s not.\n",
        "    Psychiatrist: That sounds unsettling. Can you tell me more? When did you first start noticing these feelings?\n",
        "    Patient: I’m not exactly sure, but I know it’s been happening more frequently.\n",
        "    Psychiatrist: I see. You mentioned difficulty distinguishing reality. Could you describe an example of when this happened?\n",
        "    Patient: Last week, I was having dinner with my family, and for a moment, I thought my brother was about to attack me. It didn’t make any sense, but it felt real at the time.\n",
        "    Psychiatrist: That must have been a frightening experience. How often do these kinds of episodes occur?\n",
        "    Patient: It’s not constant, but it’s happened a few times. Some days, I feel completely fine.\n",
        "    Psychiatrist: I understand. Apart from these experiences, have you noticed any other changes—like in your concentration or memory?\n",
        "    Patient: Yes, I find it hard to focus and sometimes forget things that just happened. It’s frustrating because I used to be really sharp.\n",
        "    Psychiatrist: That must be difficult. Have you also noticed changes in your mood or energy levels?\n",
        "    Patient: Well, I’ve had depressive episodes in the past, but this feels different. I don’t feel just sad—I feel like I’m not fully present in my own life.\n",
        "    Psychiatrist: I appreciate you sharing that. This sense of disconnection, along with memory issues, could have multiple causes. Have you been under any unusual stress recently?\n",
        "    Patient: A bit, but nothing extreme. I don’t know if that’s what’s causing this.\n",
        "    Psychiatrist: That’s helpful to know. We’ll explore this further to understand what might be going on and how to help you feel more grounded.\n",
        "\n",
        "    **Now, based on the following single-turn dialogue, generate a multi-turn conversation following the same structure.**\n",
        "\n",
        "    **Single-Turn Dialogue:**\n",
        "    Patient: {input_text}\n",
        "    Psychiatrist: {output_text}\n",
        "\n",
        "    **Multi-turn Dialogue:**\n",
        "    \"\"\"\n",
        "\n",
        "    response = llm.invoke(prompt)\n",
        "    return response.content\n"
      ],
      "metadata": {
        "trusted": true,
        "execution": {
          "iopub.status.busy": "2025-02-17T17:39:38.340544Z",
          "iopub.execute_input": "2025-02-17T17:39:38.340881Z",
          "iopub.status.idle": "2025-02-17T17:39:38.348023Z",
          "shell.execute_reply.started": "2025-02-17T17:39:38.340854Z",
          "shell.execute_reply": "2025-02-17T17:39:38.346444Z"
        },
        "id": "dr3JO3vNpAXs"
      },
      "outputs": [],
      "execution_count": null
    },
    {
      "cell_type": "code",
      "source": [
        "# -------------CHECKING\n",
        "# Process the 5-sample data\n",
        "# output_data = []\n",
        "# for item in sample_data:\n",
        "#     input_text = item[\"input\"]\n",
        "#     output_text = item[\"output\"]\n",
        "#     expanded_dialogue = transform_dialogue(input_text, output_text)\n",
        "#     output_data.append({\"input\": input_text, \"output\": output_text, \"expanded_dialogue\": expanded_dialogue})\n"
      ],
      "metadata": {
        "trusted": true,
        "execution": {
          "iopub.status.busy": "2025-02-15T15:28:52.489898Z",
          "iopub.execute_input": "2025-02-15T15:28:52.490138Z",
          "iopub.status.idle": "2025-02-15T15:28:52.511777Z",
          "shell.execute_reply.started": "2025-02-15T15:28:52.490121Z",
          "shell.execute_reply": "2025-02-15T15:28:52.510719Z"
        },
        "id": "fmhMR4_KpAXt"
      },
      "outputs": [],
      "execution_count": null
    },
    {
      "cell_type": "code",
      "source": [
        "# Save to CSV\n",
        "# output_df = pd.DataFrame(output_data)\n",
        "# # output_df.to_csv(\"expanded_psych8k_sample.csv\", index=False)\n",
        "# print(\"Saved 20-sample data to CSV\")"
      ],
      "metadata": {
        "trusted": true,
        "execution": {
          "iopub.status.busy": "2025-02-15T15:28:52.512603Z",
          "iopub.execute_input": "2025-02-15T15:28:52.512793Z",
          "iopub.status.idle": "2025-02-15T15:28:52.531489Z",
          "shell.execute_reply.started": "2025-02-15T15:28:52.512778Z",
          "shell.execute_reply": "2025-02-15T15:28:52.530039Z"
        },
        "id": "K0UHIQeLpAXt"
      },
      "outputs": [],
      "execution_count": null
    },
    {
      "cell_type": "code",
      "source": [
        "def process_dataset_range(start_idx, end_idx):\n",
        "    subset = {\n",
        "        \"input\": train_data[\"input\"][start_idx:end_idx],\n",
        "        \"output\": train_data[\"output\"][start_idx:end_idx],\n",
        "        \"instruction\": train_data[\"instruction\"][start_idx:end_idx]\n",
        "    }\n",
        "\n",
        "    processed_data = []\n",
        "    for i in range(len(subset[\"input\"])):\n",
        "        input_text = subset[\"input\"][i]\n",
        "        output_text = subset[\"output\"][i]\n",
        "        time.sleep(3)\n",
        "        expanded_dialogue = transform_dialogue(input_text, output_text)  # Assuming this function exists\n",
        "\n",
        "        processed_data.append({\n",
        "            \"input\": input_text,\n",
        "            \"output\": output_text,\n",
        "            \"expanded_dialogue\": expanded_dialogue\n",
        "        })\n",
        "        print(f\"Interation {i} done.\")\n",
        "\n",
        "    # Save as CSV\n",
        "    csv_filename = f\"expanded_psych8k_{start_idx}_{end_idx}.csv\"\n",
        "    df=pd.DataFrame(processed_data)\n",
        "    df.to_csv(csv_filename, index=False)\n",
        "    print(f\"Saved dataset to {csv_filename}\")\n",
        "\n",
        "    # # Save in Hugging Face format (NEED TO CHANGE)\n",
        "    # dataset = Dataset.from_list(processed_data)\n",
        "    # hf_dir = f\"expanded_psych8k_{start_idx}_{end_idx}\"\n",
        "    # dataset.save_to_disk(hf_dir)\n",
        "    # print(f\"Saved dataset in Hugging Face format at {hf_dir}\")\n",
        "    return df"
      ],
      "metadata": {
        "trusted": true,
        "execution": {
          "iopub.status.busy": "2025-02-17T17:39:41.543195Z",
          "iopub.execute_input": "2025-02-17T17:39:41.543625Z",
          "iopub.status.idle": "2025-02-17T17:39:41.553104Z",
          "shell.execute_reply.started": "2025-02-17T17:39:41.543582Z",
          "shell.execute_reply": "2025-02-17T17:39:41.551785Z"
        },
        "id": "pVH-5D12pAXt"
      },
      "outputs": [],
      "execution_count": null
    },
    {
      "cell_type": "code",
      "source": [
        "# Example Usage: Process dataset from index 1000 to 2000\n",
        "output_df=process_dataset_range(4901, 520)"
      ],
      "metadata": {
        "trusted": true,
        "execution": {
          "iopub.status.busy": "2025-02-17T17:39:45.787097Z",
          "iopub.execute_input": "2025-02-17T17:39:45.787498Z",
          "iopub.status.idle": "2025-02-17T18:10:09.897532Z",
          "shell.execute_reply.started": "2025-02-17T17:39:45.787471Z",
          "shell.execute_reply": "2025-02-17T18:10:09.895441Z"
        },
        "id": "5i2ci-AhpAXt",
        "outputId": "158b50fc-39a0-4d52-874f-a8bcf67c66ea"
      },
      "outputs": [
        {
          "name": "stdout",
          "text": "Interation 0 done.\nInteration 1 done.\nInteration 2 done.\nInteration 3 done.\nInteration 4 done.\nInteration 5 done.\nInteration 6 done.\nInteration 7 done.\nInteration 8 done.\nInteration 9 done.\nInteration 10 done.\nInteration 11 done.\nInteration 12 done.\nInteration 13 done.\nInteration 14 done.\nInteration 15 done.\nInteration 16 done.\nInteration 17 done.\nInteration 18 done.\nInteration 19 done.\nInteration 20 done.\nInteration 21 done.\nInteration 22 done.\nInteration 23 done.\nInteration 24 done.\nInteration 25 done.\nInteration 26 done.\nInteration 27 done.\nInteration 28 done.\nInteration 29 done.\nInteration 30 done.\nInteration 31 done.\nInteration 32 done.\nInteration 33 done.\nInteration 34 done.\nInteration 35 done.\nInteration 36 done.\nInteration 37 done.\nInteration 38 done.\nInteration 39 done.\nInteration 40 done.\nInteration 41 done.\nInteration 42 done.\nInteration 43 done.\nInteration 44 done.\nInteration 45 done.\nInteration 46 done.\nInteration 47 done.\nInteration 48 done.\nInteration 49 done.\nInteration 50 done.\nInteration 51 done.\nInteration 52 done.\nInteration 53 done.\nInteration 54 done.\nInteration 55 done.\nInteration 56 done.\nInteration 57 done.\nInteration 58 done.\nInteration 59 done.\nInteration 60 done.\nInteration 61 done.\nInteration 62 done.\nInteration 63 done.\nInteration 64 done.\nInteration 65 done.\nInteration 66 done.\nInteration 67 done.\nInteration 68 done.\nInteration 69 done.\nInteration 70 done.\nInteration 71 done.\nInteration 72 done.\nInteration 73 done.\nInteration 74 done.\nInteration 75 done.\nInteration 76 done.\nInteration 77 done.\nInteration 78 done.\nInteration 79 done.\nInteration 80 done.\nInteration 81 done.\nInteration 82 done.\nInteration 83 done.\nInteration 84 done.\nInteration 85 done.\nInteration 86 done.\nInteration 87 done.\nInteration 88 done.\nInteration 89 done.\nInteration 90 done.\nInteration 91 done.\nInteration 92 done.\nInteration 93 done.\nInteration 94 done.\nInteration 95 done.\nInteration 96 done.\nInteration 97 done.\nInteration 98 done.\nInteration 99 done.\nInteration 100 done.\nInteration 101 done.\nInteration 102 done.\nInteration 103 done.\nInteration 104 done.\nInteration 105 done.\nInteration 106 done.\nInteration 107 done.\nInteration 108 done.\nInteration 109 done.\nInteration 110 done.\nInteration 111 done.\nInteration 112 done.\nInteration 113 done.\nInteration 114 done.\nInteration 115 done.\nInteration 116 done.\nInteration 117 done.\nInteration 118 done.\nInteration 119 done.\nInteration 120 done.\nInteration 121 done.\nInteration 122 done.\nInteration 123 done.\nInteration 124 done.\nInteration 125 done.\nInteration 126 done.\nInteration 127 done.\nInteration 128 done.\nInteration 129 done.\nInteration 130 done.\nInteration 131 done.\nInteration 132 done.\nInteration 133 done.\nInteration 134 done.\nInteration 135 done.\nInteration 136 done.\nInteration 137 done.\nInteration 138 done.\nInteration 139 done.\nInteration 140 done.\nInteration 141 done.\nInteration 142 done.\nInteration 143 done.\nInteration 144 done.\nInteration 145 done.\nInteration 146 done.\nInteration 147 done.\nInteration 148 done.\nInteration 149 done.\nInteration 150 done.\nInteration 151 done.\nInteration 152 done.\nInteration 153 done.\nInteration 154 done.\nInteration 155 done.\nInteration 156 done.\nInteration 157 done.\nInteration 158 done.\nInteration 159 done.\nInteration 160 done.\nInteration 161 done.\nInteration 162 done.\nInteration 163 done.\nInteration 164 done.\nInteration 165 done.\nInteration 166 done.\nInteration 167 done.\nInteration 168 done.\nInteration 169 done.\nInteration 170 done.\nInteration 171 done.\nInteration 172 done.\nInteration 173 done.\nInteration 174 done.\nInteration 175 done.\nInteration 176 done.\nInteration 177 done.\nInteration 178 done.\nInteration 179 done.\nInteration 180 done.\nInteration 181 done.\nInteration 182 done.\nInteration 183 done.\nInteration 184 done.\nInteration 185 done.\nInteration 186 done.\nInteration 187 done.\nInteration 188 done.\nInteration 189 done.\nInteration 190 done.\nInteration 191 done.\nInteration 192 done.\nInteration 193 done.\nInteration 194 done.\nInteration 195 done.\nInteration 196 done.\nInteration 197 done.\nInteration 198 done.\nInteration 199 done.\nInteration 200 done.\nInteration 201 done.\nInteration 202 done.\nInteration 203 done.\nInteration 204 done.\nInteration 205 done.\nInteration 206 done.\nInteration 207 done.\nInteration 208 done.\nInteration 209 done.\nInteration 210 done.\nInteration 211 done.\nInteration 212 done.\nInteration 213 done.\nInteration 214 done.\nInteration 215 done.\nInteration 216 done.\nInteration 217 done.\nInteration 218 done.\nInteration 219 done.\nInteration 220 done.\nInteration 221 done.\nInteration 222 done.\nInteration 223 done.\nInteration 224 done.\nInteration 225 done.\nInteration 226 done.\nInteration 227 done.\nInteration 228 done.\nInteration 229 done.\nInteration 230 done.\nInteration 231 done.\nInteration 232 done.\nInteration 233 done.\nInteration 234 done.\nInteration 235 done.\nInteration 236 done.\nInteration 237 done.\nInteration 238 done.\nInteration 239 done.\nInteration 240 done.\nInteration 241 done.\nInteration 242 done.\nInteration 243 done.\nInteration 244 done.\nInteration 245 done.\nInteration 246 done.\nInteration 247 done.\nInteration 248 done.\nInteration 249 done.\nInteration 250 done.\nInteration 251 done.\nInteration 252 done.\nInteration 253 done.\nInteration 254 done.\nInteration 255 done.\nInteration 256 done.\nInteration 257 done.\nInteration 258 done.\nInteration 259 done.\nInteration 260 done.\nInteration 261 done.\nInteration 262 done.\nInteration 263 done.\nInteration 264 done.\nInteration 265 done.\nInteration 266 done.\nInteration 267 done.\nInteration 268 done.\nInteration 269 done.\nInteration 270 done.\nInteration 271 done.\n",
          "output_type": "stream"
        },
        {
          "traceback": [
            "\u001b[0;31m---------------------------------------------------------------------------\u001b[0m",
            "\u001b[0;31m_InactiveRpcError\u001b[0m                         Traceback (most recent call last)",
            "\u001b[0;32m/usr/local/lib/python3.10/dist-packages/google/api_core/grpc_helpers.py\u001b[0m in \u001b[0;36merror_remapped_callable\u001b[0;34m(*args, **kwargs)\u001b[0m\n\u001b[1;32m     64\u001b[0m         \u001b[0;32mtry\u001b[0m\u001b[0;34m:\u001b[0m\u001b[0;34m\u001b[0m\u001b[0;34m\u001b[0m\u001b[0m\n\u001b[0;32m---> 65\u001b[0;31m             \u001b[0;32mreturn\u001b[0m \u001b[0mcallable_\u001b[0m\u001b[0;34m(\u001b[0m\u001b[0;34m*\u001b[0m\u001b[0margs\u001b[0m\u001b[0;34m,\u001b[0m \u001b[0;34m**\u001b[0m\u001b[0mkwargs\u001b[0m\u001b[0;34m)\u001b[0m\u001b[0;34m\u001b[0m\u001b[0;34m\u001b[0m\u001b[0m\n\u001b[0m\u001b[1;32m     66\u001b[0m         \u001b[0;32mexcept\u001b[0m \u001b[0mgrpc\u001b[0m\u001b[0;34m.\u001b[0m\u001b[0mRpcError\u001b[0m \u001b[0;32mas\u001b[0m \u001b[0mexc\u001b[0m\u001b[0;34m:\u001b[0m\u001b[0;34m\u001b[0m\u001b[0;34m\u001b[0m\u001b[0m\n",
            "\u001b[0;32m/usr/local/lib/python3.10/dist-packages/grpc/_channel.py\u001b[0m in \u001b[0;36m__call__\u001b[0;34m(self, request, timeout, metadata, credentials, wait_for_ready, compression)\u001b[0m\n\u001b[1;32m   1180\u001b[0m         )\n\u001b[0;32m-> 1181\u001b[0;31m         \u001b[0;32mreturn\u001b[0m \u001b[0m_end_unary_response_blocking\u001b[0m\u001b[0;34m(\u001b[0m\u001b[0mstate\u001b[0m\u001b[0;34m,\u001b[0m \u001b[0mcall\u001b[0m\u001b[0;34m,\u001b[0m \u001b[0;32mFalse\u001b[0m\u001b[0;34m,\u001b[0m \u001b[0;32mNone\u001b[0m\u001b[0;34m)\u001b[0m\u001b[0;34m\u001b[0m\u001b[0;34m\u001b[0m\u001b[0m\n\u001b[0m\u001b[1;32m   1182\u001b[0m \u001b[0;34m\u001b[0m\u001b[0m\n",
            "\u001b[0;32m/usr/local/lib/python3.10/dist-packages/grpc/_channel.py\u001b[0m in \u001b[0;36m_end_unary_response_blocking\u001b[0;34m(state, call, with_call, deadline)\u001b[0m\n\u001b[1;32m   1005\u001b[0m     \u001b[0;32melse\u001b[0m\u001b[0;34m:\u001b[0m\u001b[0;34m\u001b[0m\u001b[0;34m\u001b[0m\u001b[0m\n\u001b[0;32m-> 1006\u001b[0;31m         \u001b[0;32mraise\u001b[0m \u001b[0m_InactiveRpcError\u001b[0m\u001b[0;34m(\u001b[0m\u001b[0mstate\u001b[0m\u001b[0;34m)\u001b[0m  \u001b[0;31m# pytype: disable=not-instantiable\u001b[0m\u001b[0;34m\u001b[0m\u001b[0;34m\u001b[0m\u001b[0m\n\u001b[0m\u001b[1;32m   1007\u001b[0m \u001b[0;34m\u001b[0m\u001b[0m\n",
            "\u001b[0;31m_InactiveRpcError\u001b[0m: <_InactiveRpcError of RPC that terminated with:\n\tstatus = StatusCode.RESOURCE_EXHAUSTED\n\tdetails = \"Resource has been exhausted (e.g. check quota).\"\n\tdebug_error_string = \"UNKNOWN:Error received from peer ipv4:108.177.98.95:443 {grpc_message:\"Resource has been exhausted (e.g. check quota).\", grpc_status:8, created_time:\"2025-02-17T18:10:09.634122679+00:00\"}\"\n>",
            "\nThe above exception was the direct cause of the following exception:\n",
            "\u001b[0;31mResourceExhausted\u001b[0m                         Traceback (most recent call last)",
            "\u001b[0;32m<ipython-input-9-ce3ea096b1e7>\u001b[0m in \u001b[0;36m<cell line: 2>\u001b[0;34m()\u001b[0m\n\u001b[1;32m      1\u001b[0m \u001b[0;31m# Example Usage: Process dataset from index 1000 to 2000\u001b[0m\u001b[0;34m\u001b[0m\u001b[0;34m\u001b[0m\u001b[0m\n\u001b[0;32m----> 2\u001b[0;31m \u001b[0moutput_df\u001b[0m\u001b[0;34m=\u001b[0m\u001b[0mprocess_dataset_range\u001b[0m\u001b[0;34m(\u001b[0m\u001b[0;36m4901\u001b[0m\u001b[0;34m,\u001b[0m \u001b[0;36m5200\u001b[0m\u001b[0;34m)\u001b[0m\u001b[0;34m\u001b[0m\u001b[0;34m\u001b[0m\u001b[0m\n\u001b[0m",
            "\u001b[0;32m<ipython-input-8-f14e41b47735>\u001b[0m in \u001b[0;36mprocess_dataset_range\u001b[0;34m(start_idx, end_idx)\u001b[0m\n\u001b[1;32m     11\u001b[0m         \u001b[0moutput_text\u001b[0m \u001b[0;34m=\u001b[0m \u001b[0msubset\u001b[0m\u001b[0;34m[\u001b[0m\u001b[0;34m\"output\"\u001b[0m\u001b[0;34m]\u001b[0m\u001b[0;34m[\u001b[0m\u001b[0mi\u001b[0m\u001b[0;34m]\u001b[0m\u001b[0;34m\u001b[0m\u001b[0;34m\u001b[0m\u001b[0m\n\u001b[1;32m     12\u001b[0m         \u001b[0mtime\u001b[0m\u001b[0;34m.\u001b[0m\u001b[0msleep\u001b[0m\u001b[0;34m(\u001b[0m\u001b[0;36m3\u001b[0m\u001b[0;34m)\u001b[0m\u001b[0;34m\u001b[0m\u001b[0;34m\u001b[0m\u001b[0m\n\u001b[0;32m---> 13\u001b[0;31m         \u001b[0mexpanded_dialogue\u001b[0m \u001b[0;34m=\u001b[0m \u001b[0mtransform_dialogue\u001b[0m\u001b[0;34m(\u001b[0m\u001b[0minput_text\u001b[0m\u001b[0;34m,\u001b[0m \u001b[0moutput_text\u001b[0m\u001b[0;34m)\u001b[0m  \u001b[0;31m# Assuming this function exists\u001b[0m\u001b[0;34m\u001b[0m\u001b[0;34m\u001b[0m\u001b[0m\n\u001b[0m\u001b[1;32m     14\u001b[0m \u001b[0;34m\u001b[0m\u001b[0m\n\u001b[1;32m     15\u001b[0m         processed_data.append({\n",
            "\u001b[0;32m<ipython-input-7-6712e6a3ff5d>\u001b[0m in \u001b[0;36mtransform_dialogue\u001b[0;34m(input_text, output_text)\u001b[0m\n\u001b[1;32m     47\u001b[0m     \"\"\"\n\u001b[1;32m     48\u001b[0m \u001b[0;34m\u001b[0m\u001b[0m\n\u001b[0;32m---> 49\u001b[0;31m     \u001b[0mresponse\u001b[0m \u001b[0;34m=\u001b[0m \u001b[0mllm\u001b[0m\u001b[0;34m.\u001b[0m\u001b[0minvoke\u001b[0m\u001b[0;34m(\u001b[0m\u001b[0mprompt\u001b[0m\u001b[0;34m)\u001b[0m\u001b[0;34m\u001b[0m\u001b[0;34m\u001b[0m\u001b[0m\n\u001b[0m\u001b[1;32m     50\u001b[0m     \u001b[0;32mreturn\u001b[0m \u001b[0mresponse\u001b[0m\u001b[0;34m.\u001b[0m\u001b[0mcontent\u001b[0m\u001b[0;34m\u001b[0m\u001b[0;34m\u001b[0m\u001b[0m\n",
            "\u001b[0;32m/usr/local/lib/python3.10/dist-packages/langchain_core/language_models/chat_models.py\u001b[0m in \u001b[0;36minvoke\u001b[0;34m(self, input, config, stop, **kwargs)\u001b[0m\n\u001b[1;32m    282\u001b[0m         return cast(\n\u001b[1;32m    283\u001b[0m             \u001b[0mChatGeneration\u001b[0m\u001b[0;34m,\u001b[0m\u001b[0;34m\u001b[0m\u001b[0;34m\u001b[0m\u001b[0m\n\u001b[0;32m--> 284\u001b[0;31m             self.generate_prompt(\n\u001b[0m\u001b[1;32m    285\u001b[0m                 \u001b[0;34m[\u001b[0m\u001b[0mself\u001b[0m\u001b[0;34m.\u001b[0m\u001b[0m_convert_input\u001b[0m\u001b[0;34m(\u001b[0m\u001b[0minput\u001b[0m\u001b[0;34m)\u001b[0m\u001b[0;34m]\u001b[0m\u001b[0;34m,\u001b[0m\u001b[0;34m\u001b[0m\u001b[0;34m\u001b[0m\u001b[0m\n\u001b[1;32m    286\u001b[0m                 \u001b[0mstop\u001b[0m\u001b[0;34m=\u001b[0m\u001b[0mstop\u001b[0m\u001b[0;34m,\u001b[0m\u001b[0;34m\u001b[0m\u001b[0;34m\u001b[0m\u001b[0m\n",
            "\u001b[0;32m/usr/local/lib/python3.10/dist-packages/langchain_core/language_models/chat_models.py\u001b[0m in \u001b[0;36mgenerate_prompt\u001b[0;34m(self, prompts, stop, callbacks, **kwargs)\u001b[0m\n\u001b[1;32m    858\u001b[0m     ) -> LLMResult:\n\u001b[1;32m    859\u001b[0m         \u001b[0mprompt_messages\u001b[0m \u001b[0;34m=\u001b[0m \u001b[0;34m[\u001b[0m\u001b[0mp\u001b[0m\u001b[0;34m.\u001b[0m\u001b[0mto_messages\u001b[0m\u001b[0;34m(\u001b[0m\u001b[0;34m)\u001b[0m \u001b[0;32mfor\u001b[0m \u001b[0mp\u001b[0m \u001b[0;32min\u001b[0m \u001b[0mprompts\u001b[0m\u001b[0;34m]\u001b[0m\u001b[0;34m\u001b[0m\u001b[0;34m\u001b[0m\u001b[0m\n\u001b[0;32m--> 860\u001b[0;31m         \u001b[0;32mreturn\u001b[0m \u001b[0mself\u001b[0m\u001b[0;34m.\u001b[0m\u001b[0mgenerate\u001b[0m\u001b[0;34m(\u001b[0m\u001b[0mprompt_messages\u001b[0m\u001b[0;34m,\u001b[0m \u001b[0mstop\u001b[0m\u001b[0;34m=\u001b[0m\u001b[0mstop\u001b[0m\u001b[0;34m,\u001b[0m \u001b[0mcallbacks\u001b[0m\u001b[0;34m=\u001b[0m\u001b[0mcallbacks\u001b[0m\u001b[0;34m,\u001b[0m \u001b[0;34m**\u001b[0m\u001b[0mkwargs\u001b[0m\u001b[0;34m)\u001b[0m\u001b[0;34m\u001b[0m\u001b[0;34m\u001b[0m\u001b[0m\n\u001b[0m\u001b[1;32m    861\u001b[0m \u001b[0;34m\u001b[0m\u001b[0m\n\u001b[1;32m    862\u001b[0m     async def agenerate_prompt(\n",
            "\u001b[0;32m/usr/local/lib/python3.10/dist-packages/langchain_core/language_models/chat_models.py\u001b[0m in \u001b[0;36mgenerate\u001b[0;34m(self, messages, stop, callbacks, tags, metadata, run_name, run_id, **kwargs)\u001b[0m\n\u001b[1;32m    688\u001b[0m             \u001b[0;32mtry\u001b[0m\u001b[0;34m:\u001b[0m\u001b[0;34m\u001b[0m\u001b[0;34m\u001b[0m\u001b[0m\n\u001b[1;32m    689\u001b[0m                 results.append(\n\u001b[0;32m--> 690\u001b[0;31m                     self._generate_with_cache(\n\u001b[0m\u001b[1;32m    691\u001b[0m                         \u001b[0mm\u001b[0m\u001b[0;34m,\u001b[0m\u001b[0;34m\u001b[0m\u001b[0;34m\u001b[0m\u001b[0m\n\u001b[1;32m    692\u001b[0m                         \u001b[0mstop\u001b[0m\u001b[0;34m=\u001b[0m\u001b[0mstop\u001b[0m\u001b[0;34m,\u001b[0m\u001b[0;34m\u001b[0m\u001b[0;34m\u001b[0m\u001b[0m\n",
            "\u001b[0;32m/usr/local/lib/python3.10/dist-packages/langchain_core/language_models/chat_models.py\u001b[0m in \u001b[0;36m_generate_with_cache\u001b[0;34m(self, messages, stop, run_manager, **kwargs)\u001b[0m\n\u001b[1;32m    923\u001b[0m         \u001b[0;32melse\u001b[0m\u001b[0;34m:\u001b[0m\u001b[0;34m\u001b[0m\u001b[0;34m\u001b[0m\u001b[0m\n\u001b[1;32m    924\u001b[0m             \u001b[0;32mif\u001b[0m \u001b[0minspect\u001b[0m\u001b[0;34m.\u001b[0m\u001b[0msignature\u001b[0m\u001b[0;34m(\u001b[0m\u001b[0mself\u001b[0m\u001b[0;34m.\u001b[0m\u001b[0m_generate\u001b[0m\u001b[0;34m)\u001b[0m\u001b[0;34m.\u001b[0m\u001b[0mparameters\u001b[0m\u001b[0;34m.\u001b[0m\u001b[0mget\u001b[0m\u001b[0;34m(\u001b[0m\u001b[0;34m\"run_manager\"\u001b[0m\u001b[0;34m)\u001b[0m\u001b[0;34m:\u001b[0m\u001b[0;34m\u001b[0m\u001b[0;34m\u001b[0m\u001b[0m\n\u001b[0;32m--> 925\u001b[0;31m                 result = self._generate(\n\u001b[0m\u001b[1;32m    926\u001b[0m                     \u001b[0mmessages\u001b[0m\u001b[0;34m,\u001b[0m \u001b[0mstop\u001b[0m\u001b[0;34m=\u001b[0m\u001b[0mstop\u001b[0m\u001b[0;34m,\u001b[0m \u001b[0mrun_manager\u001b[0m\u001b[0;34m=\u001b[0m\u001b[0mrun_manager\u001b[0m\u001b[0;34m,\u001b[0m \u001b[0;34m**\u001b[0m\u001b[0mkwargs\u001b[0m\u001b[0;34m\u001b[0m\u001b[0;34m\u001b[0m\u001b[0m\n\u001b[1;32m    927\u001b[0m                 )\n",
            "\u001b[0;32m/usr/local/lib/python3.10/dist-packages/langchain_google_genai/chat_models.py\u001b[0m in \u001b[0;36m_generate\u001b[0;34m(self, messages, stop, run_manager, tools, functions, safety_settings, tool_config, generation_config, cached_content, tool_choice, **kwargs)\u001b[0m\n\u001b[1;32m    949\u001b[0m             \u001b[0mtool_choice\u001b[0m\u001b[0;34m=\u001b[0m\u001b[0mtool_choice\u001b[0m\u001b[0;34m,\u001b[0m\u001b[0;34m\u001b[0m\u001b[0;34m\u001b[0m\u001b[0m\n\u001b[1;32m    950\u001b[0m         )\n\u001b[0;32m--> 951\u001b[0;31m         response: GenerateContentResponse = _chat_with_retry(\n\u001b[0m\u001b[1;32m    952\u001b[0m             \u001b[0mrequest\u001b[0m\u001b[0;34m=\u001b[0m\u001b[0mrequest\u001b[0m\u001b[0;34m,\u001b[0m\u001b[0;34m\u001b[0m\u001b[0;34m\u001b[0m\u001b[0m\n\u001b[1;32m    953\u001b[0m             \u001b[0;34m**\u001b[0m\u001b[0mkwargs\u001b[0m\u001b[0;34m,\u001b[0m\u001b[0;34m\u001b[0m\u001b[0;34m\u001b[0m\u001b[0m\n",
            "\u001b[0;32m/usr/local/lib/python3.10/dist-packages/langchain_google_genai/chat_models.py\u001b[0m in \u001b[0;36m_chat_with_retry\u001b[0;34m(generation_method, **kwargs)\u001b[0m\n\u001b[1;32m    194\u001b[0m             \u001b[0;32mraise\u001b[0m \u001b[0me\u001b[0m\u001b[0;34m\u001b[0m\u001b[0;34m\u001b[0m\u001b[0m\n\u001b[1;32m    195\u001b[0m \u001b[0;34m\u001b[0m\u001b[0m\n\u001b[0;32m--> 196\u001b[0;31m     \u001b[0;32mreturn\u001b[0m \u001b[0m_chat_with_retry\u001b[0m\u001b[0;34m(\u001b[0m\u001b[0;34m**\u001b[0m\u001b[0mkwargs\u001b[0m\u001b[0;34m)\u001b[0m\u001b[0;34m\u001b[0m\u001b[0;34m\u001b[0m\u001b[0m\n\u001b[0m\u001b[1;32m    197\u001b[0m \u001b[0;34m\u001b[0m\u001b[0m\n\u001b[1;32m    198\u001b[0m \u001b[0;34m\u001b[0m\u001b[0m\n",
            "\u001b[0;32m/usr/local/lib/python3.10/dist-packages/tenacity/__init__.py\u001b[0m in \u001b[0;36mwrapped_f\u001b[0;34m(*args, **kw)\u001b[0m\n\u001b[1;32m    334\u001b[0m             \u001b[0mcopy\u001b[0m \u001b[0;34m=\u001b[0m \u001b[0mself\u001b[0m\u001b[0;34m.\u001b[0m\u001b[0mcopy\u001b[0m\u001b[0;34m(\u001b[0m\u001b[0;34m)\u001b[0m\u001b[0;34m\u001b[0m\u001b[0;34m\u001b[0m\u001b[0m\n\u001b[1;32m    335\u001b[0m             \u001b[0mwrapped_f\u001b[0m\u001b[0;34m.\u001b[0m\u001b[0mstatistics\u001b[0m \u001b[0;34m=\u001b[0m \u001b[0mcopy\u001b[0m\u001b[0;34m.\u001b[0m\u001b[0mstatistics\u001b[0m  \u001b[0;31m# type: ignore[attr-defined]\u001b[0m\u001b[0;34m\u001b[0m\u001b[0;34m\u001b[0m\u001b[0m\n\u001b[0;32m--> 336\u001b[0;31m             \u001b[0;32mreturn\u001b[0m \u001b[0mcopy\u001b[0m\u001b[0;34m(\u001b[0m\u001b[0mf\u001b[0m\u001b[0;34m,\u001b[0m \u001b[0;34m*\u001b[0m\u001b[0margs\u001b[0m\u001b[0;34m,\u001b[0m \u001b[0;34m**\u001b[0m\u001b[0mkw\u001b[0m\u001b[0;34m)\u001b[0m\u001b[0;34m\u001b[0m\u001b[0;34m\u001b[0m\u001b[0m\n\u001b[0m\u001b[1;32m    337\u001b[0m \u001b[0;34m\u001b[0m\u001b[0m\n\u001b[1;32m    338\u001b[0m         \u001b[0;32mdef\u001b[0m \u001b[0mretry_with\u001b[0m\u001b[0;34m(\u001b[0m\u001b[0;34m*\u001b[0m\u001b[0margs\u001b[0m\u001b[0;34m:\u001b[0m \u001b[0mt\u001b[0m\u001b[0;34m.\u001b[0m\u001b[0mAny\u001b[0m\u001b[0;34m,\u001b[0m \u001b[0;34m**\u001b[0m\u001b[0mkwargs\u001b[0m\u001b[0;34m:\u001b[0m \u001b[0mt\u001b[0m\u001b[0;34m.\u001b[0m\u001b[0mAny\u001b[0m\u001b[0;34m)\u001b[0m \u001b[0;34m->\u001b[0m \u001b[0mWrappedFn\u001b[0m\u001b[0;34m:\u001b[0m\u001b[0;34m\u001b[0m\u001b[0;34m\u001b[0m\u001b[0m\n",
            "\u001b[0;32m/usr/local/lib/python3.10/dist-packages/tenacity/__init__.py\u001b[0m in \u001b[0;36m__call__\u001b[0;34m(self, fn, *args, **kwargs)\u001b[0m\n\u001b[1;32m    473\u001b[0m         \u001b[0mretry_state\u001b[0m \u001b[0;34m=\u001b[0m \u001b[0mRetryCallState\u001b[0m\u001b[0;34m(\u001b[0m\u001b[0mretry_object\u001b[0m\u001b[0;34m=\u001b[0m\u001b[0mself\u001b[0m\u001b[0;34m,\u001b[0m \u001b[0mfn\u001b[0m\u001b[0;34m=\u001b[0m\u001b[0mfn\u001b[0m\u001b[0;34m,\u001b[0m \u001b[0margs\u001b[0m\u001b[0;34m=\u001b[0m\u001b[0margs\u001b[0m\u001b[0;34m,\u001b[0m \u001b[0mkwargs\u001b[0m\u001b[0;34m=\u001b[0m\u001b[0mkwargs\u001b[0m\u001b[0;34m)\u001b[0m\u001b[0;34m\u001b[0m\u001b[0;34m\u001b[0m\u001b[0m\n\u001b[1;32m    474\u001b[0m         \u001b[0;32mwhile\u001b[0m \u001b[0;32mTrue\u001b[0m\u001b[0;34m:\u001b[0m\u001b[0;34m\u001b[0m\u001b[0;34m\u001b[0m\u001b[0m\n\u001b[0;32m--> 475\u001b[0;31m             \u001b[0mdo\u001b[0m \u001b[0;34m=\u001b[0m \u001b[0mself\u001b[0m\u001b[0;34m.\u001b[0m\u001b[0miter\u001b[0m\u001b[0;34m(\u001b[0m\u001b[0mretry_state\u001b[0m\u001b[0;34m=\u001b[0m\u001b[0mretry_state\u001b[0m\u001b[0;34m)\u001b[0m\u001b[0;34m\u001b[0m\u001b[0;34m\u001b[0m\u001b[0m\n\u001b[0m\u001b[1;32m    476\u001b[0m             \u001b[0;32mif\u001b[0m \u001b[0misinstance\u001b[0m\u001b[0;34m(\u001b[0m\u001b[0mdo\u001b[0m\u001b[0;34m,\u001b[0m \u001b[0mDoAttempt\u001b[0m\u001b[0;34m)\u001b[0m\u001b[0;34m:\u001b[0m\u001b[0;34m\u001b[0m\u001b[0;34m\u001b[0m\u001b[0m\n\u001b[1;32m    477\u001b[0m                 \u001b[0;32mtry\u001b[0m\u001b[0;34m:\u001b[0m\u001b[0;34m\u001b[0m\u001b[0;34m\u001b[0m\u001b[0m\n",
            "\u001b[0;32m/usr/local/lib/python3.10/dist-packages/tenacity/__init__.py\u001b[0m in \u001b[0;36miter\u001b[0;34m(self, retry_state)\u001b[0m\n\u001b[1;32m    374\u001b[0m         \u001b[0mresult\u001b[0m \u001b[0;34m=\u001b[0m \u001b[0;32mNone\u001b[0m\u001b[0;34m\u001b[0m\u001b[0;34m\u001b[0m\u001b[0m\n\u001b[1;32m    375\u001b[0m         \u001b[0;32mfor\u001b[0m \u001b[0maction\u001b[0m \u001b[0;32min\u001b[0m \u001b[0mself\u001b[0m\u001b[0;34m.\u001b[0m\u001b[0miter_state\u001b[0m\u001b[0;34m.\u001b[0m\u001b[0mactions\u001b[0m\u001b[0;34m:\u001b[0m\u001b[0;34m\u001b[0m\u001b[0;34m\u001b[0m\u001b[0m\n\u001b[0;32m--> 376\u001b[0;31m             \u001b[0mresult\u001b[0m \u001b[0;34m=\u001b[0m \u001b[0maction\u001b[0m\u001b[0;34m(\u001b[0m\u001b[0mretry_state\u001b[0m\u001b[0;34m)\u001b[0m\u001b[0;34m\u001b[0m\u001b[0;34m\u001b[0m\u001b[0m\n\u001b[0m\u001b[1;32m    377\u001b[0m         \u001b[0;32mreturn\u001b[0m \u001b[0mresult\u001b[0m\u001b[0;34m\u001b[0m\u001b[0;34m\u001b[0m\u001b[0m\n\u001b[1;32m    378\u001b[0m \u001b[0;34m\u001b[0m\u001b[0m\n",
            "\u001b[0;32m/usr/local/lib/python3.10/dist-packages/tenacity/__init__.py\u001b[0m in \u001b[0;36mexc_check\u001b[0;34m(rs)\u001b[0m\n\u001b[1;32m    416\u001b[0m                 \u001b[0mretry_exc\u001b[0m \u001b[0;34m=\u001b[0m \u001b[0mself\u001b[0m\u001b[0;34m.\u001b[0m\u001b[0mretry_error_cls\u001b[0m\u001b[0;34m(\u001b[0m\u001b[0mfut\u001b[0m\u001b[0;34m)\u001b[0m\u001b[0;34m\u001b[0m\u001b[0;34m\u001b[0m\u001b[0m\n\u001b[1;32m    417\u001b[0m                 \u001b[0;32mif\u001b[0m \u001b[0mself\u001b[0m\u001b[0;34m.\u001b[0m\u001b[0mreraise\u001b[0m\u001b[0;34m:\u001b[0m\u001b[0;34m\u001b[0m\u001b[0;34m\u001b[0m\u001b[0m\n\u001b[0;32m--> 418\u001b[0;31m                     \u001b[0;32mraise\u001b[0m \u001b[0mretry_exc\u001b[0m\u001b[0;34m.\u001b[0m\u001b[0mreraise\u001b[0m\u001b[0;34m(\u001b[0m\u001b[0;34m)\u001b[0m\u001b[0;34m\u001b[0m\u001b[0;34m\u001b[0m\u001b[0m\n\u001b[0m\u001b[1;32m    419\u001b[0m                 \u001b[0;32mraise\u001b[0m \u001b[0mretry_exc\u001b[0m \u001b[0;32mfrom\u001b[0m \u001b[0mfut\u001b[0m\u001b[0;34m.\u001b[0m\u001b[0mexception\u001b[0m\u001b[0;34m(\u001b[0m\u001b[0;34m)\u001b[0m\u001b[0;34m\u001b[0m\u001b[0;34m\u001b[0m\u001b[0m\n\u001b[1;32m    420\u001b[0m \u001b[0;34m\u001b[0m\u001b[0m\n",
            "\u001b[0;32m/usr/local/lib/python3.10/dist-packages/tenacity/__init__.py\u001b[0m in \u001b[0;36mreraise\u001b[0;34m(self)\u001b[0m\n\u001b[1;32m    183\u001b[0m     \u001b[0;32mdef\u001b[0m \u001b[0mreraise\u001b[0m\u001b[0;34m(\u001b[0m\u001b[0mself\u001b[0m\u001b[0;34m)\u001b[0m \u001b[0;34m->\u001b[0m \u001b[0mt\u001b[0m\u001b[0;34m.\u001b[0m\u001b[0mNoReturn\u001b[0m\u001b[0;34m:\u001b[0m\u001b[0;34m\u001b[0m\u001b[0;34m\u001b[0m\u001b[0m\n\u001b[1;32m    184\u001b[0m         \u001b[0;32mif\u001b[0m \u001b[0mself\u001b[0m\u001b[0;34m.\u001b[0m\u001b[0mlast_attempt\u001b[0m\u001b[0;34m.\u001b[0m\u001b[0mfailed\u001b[0m\u001b[0;34m:\u001b[0m\u001b[0;34m\u001b[0m\u001b[0;34m\u001b[0m\u001b[0m\n\u001b[0;32m--> 185\u001b[0;31m             \u001b[0;32mraise\u001b[0m \u001b[0mself\u001b[0m\u001b[0;34m.\u001b[0m\u001b[0mlast_attempt\u001b[0m\u001b[0;34m.\u001b[0m\u001b[0mresult\u001b[0m\u001b[0;34m(\u001b[0m\u001b[0;34m)\u001b[0m\u001b[0;34m\u001b[0m\u001b[0;34m\u001b[0m\u001b[0m\n\u001b[0m\u001b[1;32m    186\u001b[0m         \u001b[0;32mraise\u001b[0m \u001b[0mself\u001b[0m\u001b[0;34m\u001b[0m\u001b[0;34m\u001b[0m\u001b[0m\n\u001b[1;32m    187\u001b[0m \u001b[0;34m\u001b[0m\u001b[0m\n",
            "\u001b[0;32m/usr/lib/python3.10/concurrent/futures/_base.py\u001b[0m in \u001b[0;36mresult\u001b[0;34m(self, timeout)\u001b[0m\n\u001b[1;32m    449\u001b[0m                     \u001b[0;32mraise\u001b[0m \u001b[0mCancelledError\u001b[0m\u001b[0;34m(\u001b[0m\u001b[0;34m)\u001b[0m\u001b[0;34m\u001b[0m\u001b[0;34m\u001b[0m\u001b[0m\n\u001b[1;32m    450\u001b[0m                 \u001b[0;32melif\u001b[0m \u001b[0mself\u001b[0m\u001b[0;34m.\u001b[0m\u001b[0m_state\u001b[0m \u001b[0;34m==\u001b[0m \u001b[0mFINISHED\u001b[0m\u001b[0;34m:\u001b[0m\u001b[0;34m\u001b[0m\u001b[0;34m\u001b[0m\u001b[0m\n\u001b[0;32m--> 451\u001b[0;31m                     \u001b[0;32mreturn\u001b[0m \u001b[0mself\u001b[0m\u001b[0;34m.\u001b[0m\u001b[0m__get_result\u001b[0m\u001b[0;34m(\u001b[0m\u001b[0;34m)\u001b[0m\u001b[0;34m\u001b[0m\u001b[0;34m\u001b[0m\u001b[0m\n\u001b[0m\u001b[1;32m    452\u001b[0m \u001b[0;34m\u001b[0m\u001b[0m\n\u001b[1;32m    453\u001b[0m                 \u001b[0mself\u001b[0m\u001b[0;34m.\u001b[0m\u001b[0m_condition\u001b[0m\u001b[0;34m.\u001b[0m\u001b[0mwait\u001b[0m\u001b[0;34m(\u001b[0m\u001b[0mtimeout\u001b[0m\u001b[0;34m)\u001b[0m\u001b[0;34m\u001b[0m\u001b[0;34m\u001b[0m\u001b[0m\n",
            "\u001b[0;32m/usr/lib/python3.10/concurrent/futures/_base.py\u001b[0m in \u001b[0;36m__get_result\u001b[0;34m(self)\u001b[0m\n\u001b[1;32m    401\u001b[0m         \u001b[0;32mif\u001b[0m \u001b[0mself\u001b[0m\u001b[0;34m.\u001b[0m\u001b[0m_exception\u001b[0m\u001b[0;34m:\u001b[0m\u001b[0;34m\u001b[0m\u001b[0;34m\u001b[0m\u001b[0m\n\u001b[1;32m    402\u001b[0m             \u001b[0;32mtry\u001b[0m\u001b[0;34m:\u001b[0m\u001b[0;34m\u001b[0m\u001b[0;34m\u001b[0m\u001b[0m\n\u001b[0;32m--> 403\u001b[0;31m                 \u001b[0;32mraise\u001b[0m \u001b[0mself\u001b[0m\u001b[0;34m.\u001b[0m\u001b[0m_exception\u001b[0m\u001b[0;34m\u001b[0m\u001b[0;34m\u001b[0m\u001b[0m\n\u001b[0m\u001b[1;32m    404\u001b[0m             \u001b[0;32mfinally\u001b[0m\u001b[0;34m:\u001b[0m\u001b[0;34m\u001b[0m\u001b[0;34m\u001b[0m\u001b[0m\n\u001b[1;32m    405\u001b[0m                 \u001b[0;31m# Break a reference cycle with the exception in self._exception\u001b[0m\u001b[0;34m\u001b[0m\u001b[0;34m\u001b[0m\u001b[0m\n",
            "\u001b[0;32m/usr/local/lib/python3.10/dist-packages/tenacity/__init__.py\u001b[0m in \u001b[0;36m__call__\u001b[0;34m(self, fn, *args, **kwargs)\u001b[0m\n\u001b[1;32m    476\u001b[0m             \u001b[0;32mif\u001b[0m \u001b[0misinstance\u001b[0m\u001b[0;34m(\u001b[0m\u001b[0mdo\u001b[0m\u001b[0;34m,\u001b[0m \u001b[0mDoAttempt\u001b[0m\u001b[0;34m)\u001b[0m\u001b[0;34m:\u001b[0m\u001b[0;34m\u001b[0m\u001b[0;34m\u001b[0m\u001b[0m\n\u001b[1;32m    477\u001b[0m                 \u001b[0;32mtry\u001b[0m\u001b[0;34m:\u001b[0m\u001b[0;34m\u001b[0m\u001b[0;34m\u001b[0m\u001b[0m\n\u001b[0;32m--> 478\u001b[0;31m                     \u001b[0mresult\u001b[0m \u001b[0;34m=\u001b[0m \u001b[0mfn\u001b[0m\u001b[0;34m(\u001b[0m\u001b[0;34m*\u001b[0m\u001b[0margs\u001b[0m\u001b[0;34m,\u001b[0m \u001b[0;34m**\u001b[0m\u001b[0mkwargs\u001b[0m\u001b[0;34m)\u001b[0m\u001b[0;34m\u001b[0m\u001b[0;34m\u001b[0m\u001b[0m\n\u001b[0m\u001b[1;32m    479\u001b[0m                 \u001b[0;32mexcept\u001b[0m \u001b[0mBaseException\u001b[0m\u001b[0;34m:\u001b[0m  \u001b[0;31m# noqa: B902\u001b[0m\u001b[0;34m\u001b[0m\u001b[0;34m\u001b[0m\u001b[0m\n\u001b[1;32m    480\u001b[0m                     \u001b[0mretry_state\u001b[0m\u001b[0;34m.\u001b[0m\u001b[0mset_exception\u001b[0m\u001b[0;34m(\u001b[0m\u001b[0msys\u001b[0m\u001b[0;34m.\u001b[0m\u001b[0mexc_info\u001b[0m\u001b[0;34m(\u001b[0m\u001b[0;34m)\u001b[0m\u001b[0;34m)\u001b[0m  \u001b[0;31m# type: ignore[arg-type]\u001b[0m\u001b[0;34m\u001b[0m\u001b[0;34m\u001b[0m\u001b[0m\n",
            "\u001b[0;32m/usr/local/lib/python3.10/dist-packages/langchain_google_genai/chat_models.py\u001b[0m in \u001b[0;36m_chat_with_retry\u001b[0;34m(**kwargs)\u001b[0m\n\u001b[1;32m    192\u001b[0m             ) from e\n\u001b[1;32m    193\u001b[0m         \u001b[0;32mexcept\u001b[0m \u001b[0mException\u001b[0m \u001b[0;32mas\u001b[0m \u001b[0me\u001b[0m\u001b[0;34m:\u001b[0m\u001b[0;34m\u001b[0m\u001b[0;34m\u001b[0m\u001b[0m\n\u001b[0;32m--> 194\u001b[0;31m             \u001b[0;32mraise\u001b[0m \u001b[0me\u001b[0m\u001b[0;34m\u001b[0m\u001b[0;34m\u001b[0m\u001b[0m\n\u001b[0m\u001b[1;32m    195\u001b[0m \u001b[0;34m\u001b[0m\u001b[0m\n\u001b[1;32m    196\u001b[0m     \u001b[0;32mreturn\u001b[0m \u001b[0m_chat_with_retry\u001b[0m\u001b[0;34m(\u001b[0m\u001b[0;34m**\u001b[0m\u001b[0mkwargs\u001b[0m\u001b[0;34m)\u001b[0m\u001b[0;34m\u001b[0m\u001b[0;34m\u001b[0m\u001b[0m\n",
            "\u001b[0;32m/usr/local/lib/python3.10/dist-packages/langchain_google_genai/chat_models.py\u001b[0m in \u001b[0;36m_chat_with_retry\u001b[0;34m(**kwargs)\u001b[0m\n\u001b[1;32m    176\u001b[0m     \u001b[0;32mdef\u001b[0m \u001b[0m_chat_with_retry\u001b[0m\u001b[0;34m(\u001b[0m\u001b[0;34m**\u001b[0m\u001b[0mkwargs\u001b[0m\u001b[0;34m:\u001b[0m \u001b[0mAny\u001b[0m\u001b[0;34m)\u001b[0m \u001b[0;34m->\u001b[0m \u001b[0mAny\u001b[0m\u001b[0;34m:\u001b[0m\u001b[0;34m\u001b[0m\u001b[0;34m\u001b[0m\u001b[0m\n\u001b[1;32m    177\u001b[0m         \u001b[0;32mtry\u001b[0m\u001b[0;34m:\u001b[0m\u001b[0;34m\u001b[0m\u001b[0;34m\u001b[0m\u001b[0m\n\u001b[0;32m--> 178\u001b[0;31m             \u001b[0;32mreturn\u001b[0m \u001b[0mgeneration_method\u001b[0m\u001b[0;34m(\u001b[0m\u001b[0;34m**\u001b[0m\u001b[0mkwargs\u001b[0m\u001b[0;34m)\u001b[0m\u001b[0;34m\u001b[0m\u001b[0;34m\u001b[0m\u001b[0m\n\u001b[0m\u001b[1;32m    179\u001b[0m         \u001b[0;31m# Do not retry for these errors.\u001b[0m\u001b[0;34m\u001b[0m\u001b[0;34m\u001b[0m\u001b[0m\n\u001b[1;32m    180\u001b[0m         \u001b[0;32mexcept\u001b[0m \u001b[0mgoogle\u001b[0m\u001b[0;34m.\u001b[0m\u001b[0mapi_core\u001b[0m\u001b[0;34m.\u001b[0m\u001b[0mexceptions\u001b[0m\u001b[0;34m.\u001b[0m\u001b[0mFailedPrecondition\u001b[0m \u001b[0;32mas\u001b[0m \u001b[0mexc\u001b[0m\u001b[0;34m:\u001b[0m\u001b[0;34m\u001b[0m\u001b[0;34m\u001b[0m\u001b[0m\n",
            "\u001b[0;32m/usr/local/lib/python3.10/dist-packages/google/ai/generativelanguage_v1beta/services/generative_service/client.py\u001b[0m in \u001b[0;36mgenerate_content\u001b[0;34m(self, request, model, contents, retry, timeout, metadata)\u001b[0m\n\u001b[1;32m    828\u001b[0m \u001b[0;34m\u001b[0m\u001b[0m\n\u001b[1;32m    829\u001b[0m         \u001b[0;31m# Send the request.\u001b[0m\u001b[0;34m\u001b[0m\u001b[0;34m\u001b[0m\u001b[0m\n\u001b[0;32m--> 830\u001b[0;31m         response = rpc(\n\u001b[0m\u001b[1;32m    831\u001b[0m             \u001b[0mrequest\u001b[0m\u001b[0;34m,\u001b[0m\u001b[0;34m\u001b[0m\u001b[0;34m\u001b[0m\u001b[0m\n\u001b[1;32m    832\u001b[0m             \u001b[0mretry\u001b[0m\u001b[0;34m=\u001b[0m\u001b[0mretry\u001b[0m\u001b[0;34m,\u001b[0m\u001b[0;34m\u001b[0m\u001b[0;34m\u001b[0m\u001b[0m\n",
            "\u001b[0;32m/usr/local/lib/python3.10/dist-packages/google/api_core/gapic_v1/method.py\u001b[0m in \u001b[0;36m__call__\u001b[0;34m(self, timeout, retry, *args, **kwargs)\u001b[0m\n\u001b[1;32m    111\u001b[0m             \u001b[0mkwargs\u001b[0m\u001b[0;34m[\u001b[0m\u001b[0;34m\"metadata\"\u001b[0m\u001b[0;34m]\u001b[0m \u001b[0;34m=\u001b[0m \u001b[0mmetadata\u001b[0m\u001b[0;34m\u001b[0m\u001b[0;34m\u001b[0m\u001b[0m\n\u001b[1;32m    112\u001b[0m \u001b[0;34m\u001b[0m\u001b[0m\n\u001b[0;32m--> 113\u001b[0;31m         \u001b[0;32mreturn\u001b[0m \u001b[0mwrapped_func\u001b[0m\u001b[0;34m(\u001b[0m\u001b[0;34m*\u001b[0m\u001b[0margs\u001b[0m\u001b[0;34m,\u001b[0m \u001b[0;34m**\u001b[0m\u001b[0mkwargs\u001b[0m\u001b[0;34m)\u001b[0m\u001b[0;34m\u001b[0m\u001b[0;34m\u001b[0m\u001b[0m\n\u001b[0m\u001b[1;32m    114\u001b[0m \u001b[0;34m\u001b[0m\u001b[0m\n\u001b[1;32m    115\u001b[0m \u001b[0;34m\u001b[0m\u001b[0m\n",
            "\u001b[0;32m/usr/local/lib/python3.10/dist-packages/google/api_core/retry.py\u001b[0m in \u001b[0;36mretry_wrapped_func\u001b[0;34m(*args, **kwargs)\u001b[0m\n\u001b[1;32m    347\u001b[0m                 \u001b[0mself\u001b[0m\u001b[0;34m.\u001b[0m\u001b[0m_initial\u001b[0m\u001b[0;34m,\u001b[0m \u001b[0mself\u001b[0m\u001b[0;34m.\u001b[0m\u001b[0m_maximum\u001b[0m\u001b[0;34m,\u001b[0m \u001b[0mmultiplier\u001b[0m\u001b[0;34m=\u001b[0m\u001b[0mself\u001b[0m\u001b[0;34m.\u001b[0m\u001b[0m_multiplier\u001b[0m\u001b[0;34m\u001b[0m\u001b[0;34m\u001b[0m\u001b[0m\n\u001b[1;32m    348\u001b[0m             )\n\u001b[0;32m--> 349\u001b[0;31m             return retry_target(\n\u001b[0m\u001b[1;32m    350\u001b[0m                 \u001b[0mtarget\u001b[0m\u001b[0;34m,\u001b[0m\u001b[0;34m\u001b[0m\u001b[0;34m\u001b[0m\u001b[0m\n\u001b[1;32m    351\u001b[0m                 \u001b[0mself\u001b[0m\u001b[0;34m.\u001b[0m\u001b[0m_predicate\u001b[0m\u001b[0;34m,\u001b[0m\u001b[0;34m\u001b[0m\u001b[0;34m\u001b[0m\u001b[0m\n",
            "\u001b[0;32m/usr/local/lib/python3.10/dist-packages/google/api_core/retry.py\u001b[0m in \u001b[0;36mretry_target\u001b[0;34m(target, predicate, sleep_generator, timeout, on_error, **kwargs)\u001b[0m\n\u001b[1;32m    189\u001b[0m     \u001b[0;32mfor\u001b[0m \u001b[0msleep\u001b[0m \u001b[0;32min\u001b[0m \u001b[0msleep_generator\u001b[0m\u001b[0;34m:\u001b[0m\u001b[0;34m\u001b[0m\u001b[0;34m\u001b[0m\u001b[0m\n\u001b[1;32m    190\u001b[0m         \u001b[0;32mtry\u001b[0m\u001b[0;34m:\u001b[0m\u001b[0;34m\u001b[0m\u001b[0;34m\u001b[0m\u001b[0m\n\u001b[0;32m--> 191\u001b[0;31m             \u001b[0;32mreturn\u001b[0m \u001b[0mtarget\u001b[0m\u001b[0;34m(\u001b[0m\u001b[0;34m)\u001b[0m\u001b[0;34m\u001b[0m\u001b[0;34m\u001b[0m\u001b[0m\n\u001b[0m\u001b[1;32m    192\u001b[0m \u001b[0;34m\u001b[0m\u001b[0m\n\u001b[1;32m    193\u001b[0m         \u001b[0;31m# pylint: disable=broad-except\u001b[0m\u001b[0;34m\u001b[0m\u001b[0;34m\u001b[0m\u001b[0m\n",
            "\u001b[0;32m/usr/local/lib/python3.10/dist-packages/google/api_core/timeout.py\u001b[0m in \u001b[0;36mfunc_with_timeout\u001b[0;34m(*args, **kwargs)\u001b[0m\n\u001b[1;32m    118\u001b[0m                 \u001b[0mkwargs\u001b[0m\u001b[0;34m[\u001b[0m\u001b[0;34m\"timeout\"\u001b[0m\u001b[0;34m]\u001b[0m \u001b[0;34m=\u001b[0m \u001b[0mmax\u001b[0m\u001b[0;34m(\u001b[0m\u001b[0;36m0\u001b[0m\u001b[0;34m,\u001b[0m \u001b[0mself\u001b[0m\u001b[0;34m.\u001b[0m\u001b[0m_timeout\u001b[0m \u001b[0;34m-\u001b[0m \u001b[0mtime_since_first_attempt\u001b[0m\u001b[0;34m)\u001b[0m\u001b[0;34m\u001b[0m\u001b[0;34m\u001b[0m\u001b[0m\n\u001b[1;32m    119\u001b[0m \u001b[0;34m\u001b[0m\u001b[0m\n\u001b[0;32m--> 120\u001b[0;31m             \u001b[0;32mreturn\u001b[0m \u001b[0mfunc\u001b[0m\u001b[0;34m(\u001b[0m\u001b[0;34m*\u001b[0m\u001b[0margs\u001b[0m\u001b[0;34m,\u001b[0m \u001b[0;34m**\u001b[0m\u001b[0mkwargs\u001b[0m\u001b[0;34m)\u001b[0m\u001b[0;34m\u001b[0m\u001b[0;34m\u001b[0m\u001b[0m\n\u001b[0m\u001b[1;32m    121\u001b[0m \u001b[0;34m\u001b[0m\u001b[0m\n\u001b[1;32m    122\u001b[0m         \u001b[0;32mreturn\u001b[0m \u001b[0mfunc_with_timeout\u001b[0m\u001b[0;34m\u001b[0m\u001b[0;34m\u001b[0m\u001b[0m\n",
            "\u001b[0;32m/usr/local/lib/python3.10/dist-packages/google/api_core/grpc_helpers.py\u001b[0m in \u001b[0;36merror_remapped_callable\u001b[0;34m(*args, **kwargs)\u001b[0m\n\u001b[1;32m     65\u001b[0m             \u001b[0;32mreturn\u001b[0m \u001b[0mcallable_\u001b[0m\u001b[0;34m(\u001b[0m\u001b[0;34m*\u001b[0m\u001b[0margs\u001b[0m\u001b[0;34m,\u001b[0m \u001b[0;34m**\u001b[0m\u001b[0mkwargs\u001b[0m\u001b[0;34m)\u001b[0m\u001b[0;34m\u001b[0m\u001b[0;34m\u001b[0m\u001b[0m\n\u001b[1;32m     66\u001b[0m         \u001b[0;32mexcept\u001b[0m \u001b[0mgrpc\u001b[0m\u001b[0;34m.\u001b[0m\u001b[0mRpcError\u001b[0m \u001b[0;32mas\u001b[0m \u001b[0mexc\u001b[0m\u001b[0;34m:\u001b[0m\u001b[0;34m\u001b[0m\u001b[0;34m\u001b[0m\u001b[0m\n\u001b[0;32m---> 67\u001b[0;31m             \u001b[0;32mraise\u001b[0m \u001b[0mexceptions\u001b[0m\u001b[0;34m.\u001b[0m\u001b[0mfrom_grpc_error\u001b[0m\u001b[0;34m(\u001b[0m\u001b[0mexc\u001b[0m\u001b[0;34m)\u001b[0m \u001b[0;32mfrom\u001b[0m \u001b[0mexc\u001b[0m\u001b[0;34m\u001b[0m\u001b[0;34m\u001b[0m\u001b[0m\n\u001b[0m\u001b[1;32m     68\u001b[0m \u001b[0;34m\u001b[0m\u001b[0m\n\u001b[1;32m     69\u001b[0m     \u001b[0;32mreturn\u001b[0m \u001b[0merror_remapped_callable\u001b[0m\u001b[0;34m\u001b[0m\u001b[0;34m\u001b[0m\u001b[0m\n",
            "\u001b[0;31mResourceExhausted\u001b[0m: 429 Resource has been exhausted (e.g. check quota)."
          ],
          "ename": "ResourceExhausted",
          "evalue": "429 Resource has been exhausted (e.g. check quota).",
          "output_type": "error"
        }
      ],
      "execution_count": null
    },
    {
      "cell_type": "code",
      "source": [
        "Example Usage: Process dataset from index 1000 to 2000\n",
        "output_df=process_dataset_range(5201, 5500)"
      ],
      "metadata": {
        "trusted": true,
        "execution": {
          "iopub.status.busy": "2025-02-17T18:10:09.898293Z",
          "iopub.status.idle": "2025-02-17T18:10:09.898680Z",
          "shell.execute_reply": "2025-02-17T18:10:09.898524Z"
        },
        "id": "t-gv5WSlpAXu"
      },
      "outputs": [],
      "execution_count": null
    },
    {
      "cell_type": "code",
      "source": [
        "# Example Usage: Process dataset from index 1000 to 2000\n",
        "output_df=process_dataset_range(5501, 5750)"
      ],
      "metadata": {
        "trusted": true,
        "execution": {
          "iopub.status.busy": "2025-02-17T15:15:55.517875Z",
          "iopub.execute_input": "2025-02-17T15:15:55.518151Z",
          "iopub.status.idle": "2025-02-17T15:44:11.667977Z",
          "shell.execute_reply.started": "2025-02-17T15:15:55.518131Z",
          "shell.execute_reply": "2025-02-17T15:44:11.667021Z"
        },
        "collapsed": true,
        "jupyter": {
          "outputs_hidden": true
        },
        "id": "BoQi9YRrpAXu",
        "outputId": "3eed4109-5d06-44e6-ae63-e3c0ca8cf384"
      },
      "outputs": [
        {
          "name": "stdout",
          "text": "Interation 0 done.\nInteration 1 done.\nInteration 2 done.\nInteration 3 done.\nInteration 4 done.\nInteration 5 done.\nInteration 6 done.\nInteration 7 done.\nInteration 8 done.\nInteration 9 done.\nInteration 10 done.\nInteration 11 done.\nInteration 12 done.\nInteration 13 done.\nInteration 14 done.\nInteration 15 done.\nInteration 16 done.\nInteration 17 done.\nInteration 18 done.\nInteration 19 done.\nInteration 20 done.\nInteration 21 done.\nInteration 22 done.\nInteration 23 done.\nInteration 24 done.\nInteration 25 done.\nInteration 26 done.\nInteration 27 done.\nInteration 28 done.\nInteration 29 done.\nInteration 30 done.\nInteration 31 done.\nInteration 32 done.\nInteration 33 done.\nInteration 34 done.\nInteration 35 done.\nInteration 36 done.\nInteration 37 done.\nInteration 38 done.\nInteration 39 done.\nInteration 40 done.\nInteration 41 done.\nInteration 42 done.\nInteration 43 done.\nInteration 44 done.\nInteration 45 done.\nInteration 46 done.\nInteration 47 done.\nInteration 48 done.\nInteration 49 done.\nInteration 50 done.\nInteration 51 done.\nInteration 52 done.\nInteration 53 done.\nInteration 54 done.\nInteration 55 done.\nInteration 56 done.\nInteration 57 done.\nInteration 58 done.\nInteration 59 done.\nInteration 60 done.\nInteration 61 done.\nInteration 62 done.\nInteration 63 done.\nInteration 64 done.\nInteration 65 done.\nInteration 66 done.\nInteration 67 done.\nInteration 68 done.\nInteration 69 done.\nInteration 70 done.\nInteration 71 done.\nInteration 72 done.\nInteration 73 done.\nInteration 74 done.\nInteration 75 done.\nInteration 76 done.\nInteration 77 done.\nInteration 78 done.\nInteration 79 done.\nInteration 80 done.\nInteration 81 done.\nInteration 82 done.\nInteration 83 done.\nInteration 84 done.\nInteration 85 done.\nInteration 86 done.\nInteration 87 done.\nInteration 88 done.\nInteration 89 done.\nInteration 90 done.\nInteration 91 done.\nInteration 92 done.\nInteration 93 done.\nInteration 94 done.\nInteration 95 done.\nInteration 96 done.\nInteration 97 done.\nInteration 98 done.\nInteration 99 done.\nInteration 100 done.\nInteration 101 done.\nInteration 102 done.\nInteration 103 done.\nInteration 104 done.\nInteration 105 done.\nInteration 106 done.\nInteration 107 done.\nInteration 108 done.\nInteration 109 done.\nInteration 110 done.\nInteration 111 done.\nInteration 112 done.\nInteration 113 done.\nInteration 114 done.\nInteration 115 done.\nInteration 116 done.\nInteration 117 done.\nInteration 118 done.\nInteration 119 done.\nInteration 120 done.\nInteration 121 done.\nInteration 122 done.\nInteration 123 done.\nInteration 124 done.\nInteration 125 done.\nInteration 126 done.\nInteration 127 done.\nInteration 128 done.\nInteration 129 done.\nInteration 130 done.\nInteration 131 done.\nInteration 132 done.\nInteration 133 done.\nInteration 134 done.\nInteration 135 done.\nInteration 136 done.\nInteration 137 done.\nInteration 138 done.\nInteration 139 done.\nInteration 140 done.\nInteration 141 done.\nInteration 142 done.\nInteration 143 done.\nInteration 144 done.\nInteration 145 done.\nInteration 146 done.\nInteration 147 done.\nInteration 148 done.\nInteration 149 done.\nInteration 150 done.\nInteration 151 done.\nInteration 152 done.\nInteration 153 done.\nInteration 154 done.\nInteration 155 done.\nInteration 156 done.\nInteration 157 done.\nInteration 158 done.\nInteration 159 done.\nInteration 160 done.\nInteration 161 done.\nInteration 162 done.\nInteration 163 done.\nInteration 164 done.\nInteration 165 done.\nInteration 166 done.\nInteration 167 done.\nInteration 168 done.\nInteration 169 done.\nInteration 170 done.\nInteration 171 done.\nInteration 172 done.\nInteration 173 done.\nInteration 174 done.\nInteration 175 done.\nInteration 176 done.\nInteration 177 done.\nInteration 178 done.\nInteration 179 done.\nInteration 180 done.\nInteration 181 done.\nInteration 182 done.\nInteration 183 done.\nInteration 184 done.\nInteration 185 done.\nInteration 186 done.\nInteration 187 done.\nInteration 188 done.\nInteration 189 done.\nInteration 190 done.\nInteration 191 done.\nInteration 192 done.\nInteration 193 done.\nInteration 194 done.\nInteration 195 done.\nInteration 196 done.\nInteration 197 done.\nInteration 198 done.\nInteration 199 done.\nInteration 200 done.\nInteration 201 done.\nInteration 202 done.\nInteration 203 done.\nInteration 204 done.\nInteration 205 done.\nInteration 206 done.\nInteration 207 done.\nInteration 208 done.\nInteration 209 done.\nInteration 210 done.\nInteration 211 done.\nInteration 212 done.\nInteration 213 done.\nInteration 214 done.\nInteration 215 done.\nInteration 216 done.\nInteration 217 done.\nInteration 218 done.\nInteration 219 done.\nInteration 220 done.\nInteration 221 done.\nInteration 222 done.\nInteration 223 done.\nInteration 224 done.\nInteration 225 done.\nInteration 226 done.\nInteration 227 done.\nInteration 228 done.\nInteration 229 done.\nInteration 230 done.\nInteration 231 done.\nInteration 232 done.\nInteration 233 done.\nInteration 234 done.\nInteration 235 done.\nInteration 236 done.\nInteration 237 done.\nInteration 238 done.\nInteration 239 done.\nInteration 240 done.\nInteration 241 done.\nInteration 242 done.\nInteration 243 done.\nInteration 244 done.\nInteration 245 done.\nInteration 246 done.\nInteration 247 done.\nInteration 248 done.\nSaved dataset to expanded_psych8k_751_1000.csv\n",
          "output_type": "stream"
        }
      ],
      "execution_count": null
    },
    {
      "cell_type": "code",
      "source": [
        "output_df=process_dataset_range(5751, 6000)"
      ],
      "metadata": {
        "trusted": true,
        "id": "x2psVoT4pAXu"
      },
      "outputs": [],
      "execution_count": null
    },
    {
      "cell_type": "markdown",
      "source": [
        "# Printing"
      ],
      "metadata": {
        "id": "Q1mJxcPtpAXu"
      }
    },
    {
      "cell_type": "code",
      "source": [
        "# Randomly select 2 rows\n",
        "# random_rows = output_df.sample(n=5, random_state=None)  # Remove random_state for true randomness\n",
        "\n",
        "# # Print each row with formatted expanded_dialogue\n",
        "# for _, row in random_rows.iterrows():\n",
        "#     print(f\"Input: {row['input']}\\n\")\n",
        "#     print(f\"Output: {row['output']}\\n\")\n",
        "#     print(f\"Expanded Dialogue:\\n{row['expanded_dialogue']}\\n\")\n",
        "#     print(\"=\" * 80)  # Separator for readability"
      ],
      "metadata": {
        "trusted": true,
        "execution": {
          "iopub.status.busy": "2025-02-15T15:29:05.168493Z",
          "iopub.status.idle": "2025-02-15T15:29:05.168701Z",
          "shell.execute_reply": "2025-02-15T15:29:05.168613Z"
        },
        "id": "wDzAJRoTpAXu"
      },
      "outputs": [],
      "execution_count": null
    },
    {
      "cell_type": "code",
      "source": [],
      "metadata": {
        "trusted": true,
        "id": "eUz0mIuqpAXu"
      },
      "outputs": [],
      "execution_count": null
    }
  ]
}